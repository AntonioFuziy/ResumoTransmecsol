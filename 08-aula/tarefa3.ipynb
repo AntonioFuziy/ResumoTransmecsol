{
 "cells": [
  {
   "cell_type": "code",
   "execution_count": 8,
   "metadata": {},
   "outputs": [
    {
     "output_type": "stream",
     "name": "stdout",
     "text": [
      "[[  0.         100.         100.         100.         100.\n    0.        ]\n [  0.          45.45454545  59.46969697  59.46969697  45.45454545\n    0.        ]\n [  0.          22.34848485  32.95454545  32.95454545  22.34848485\n    0.        ]\n [  0.          10.98484848  17.04545455  17.04545455  10.98484848\n    0.        ]\n [  0.           4.54545455   7.1969697    7.1969697    4.54545455\n    0.        ]\n [  0.           0.           0.           0.           0.\n    0.        ]]\n"
     ]
    }
   ],
   "source": [
    "import numpy as np\n",
    "import matplotlib.pyplot as plt\n",
    "\n",
    "alpha = 0.25\n",
    "a = np.zeros((6,6))\n",
    "\n",
    "a[0][0:6] = 100\n",
    "delta_x = 0.1\n",
    "delta_t = 0.01\n",
    "a_futuro = np.zeros((6,6))\n",
    "a_futuro[0][1:5] = 100\n",
    "tempo = np.arange(0, 10, delta_t)\n",
    "\n",
    "for t in tempo:\n",
    "  for i in range(1,5):\n",
    "    for j in range(1,5):\n",
    "      Fo = (alpha*delta_t/(delta_x**2))\n",
    "      a_futuro[i][j] = Fo*(a[i+1][j] + a[i-1][j] + a[i][j+1] + a[i][j-1])+(1-4*Fo)*a[i][j]\n",
    "    a = np.copy(a_futuro)\n",
    "\n",
    "print(a_futuro)\n"
   ]
  },
  {
   "cell_type": "code",
   "execution_count": 9,
   "metadata": {},
   "outputs": [
    {
     "output_type": "stream",
     "name": "stdout",
     "text": [
      "32.954545454531406\n"
     ]
    }
   ],
   "source": [
    "a_futuro = np.zeros((6,6))\n",
    "a_futuro[0][1:5] = 100\n",
    "tempo = np.arange(0, 1, delta_t)\n",
    "\n",
    "for t in tempo:\n",
    "  for i in range(1,5):\n",
    "    for j in range(1,5):\n",
    "      Fo = (alpha*delta_t/(delta_x**2))\n",
    "      a_futuro[i][j] = Fo*(a[i+1][j] + a[i-1][j] + a[i][j+1] + a[i][j-1])+(1-4*Fo)*a[i][j]\n",
    "    a = np.copy(a_futuro)\n",
    "\n",
    "print(a_futuro[2][2])"
   ]
  },
  {
   "cell_type": "code",
   "execution_count": 10,
   "metadata": {},
   "outputs": [
    {
     "output_type": "stream",
     "name": "stdout",
     "text": [
      "0.01\n0.02\n0.03\n0.04\n"
     ]
    }
   ],
   "source": [
    "a_futuro = np.zeros((6,6))\n",
    "a_futuro[0][1:5] = 100\n",
    "tolerancia = 1e-4\n",
    "tempo = 0\n",
    "\n",
    "for i in range(1,5):\n",
    "    for j in range(1,5):\n",
    "        Fo = (alpha*delta_t/(delta_x**2))\n",
    "        a_futuro[i][j] = Fo*(a[i+1][j] + a[i-1][j] + a[i][j+1] + a[i][j-1])+(1-4*Fo)*a[i][j]\n",
    "        if(a_futuro[i][j] - 32.954545454545446 < tolerancia):\n",
    "            print(tempo)\n",
    "            break\n",
    "        \n",
    "    a = np.copy(a_futuro)\n",
    "    tempo += delta_t\n",
    "print(tempo)"
   ]
  },
  {
   "cell_type": "code",
   "execution_count": null,
   "metadata": {},
   "outputs": [],
   "source": []
  }
 ],
 "metadata": {
  "kernelspec": {
   "name": "python38564bitcd2c60667fd548188c3681b40b673c1d",
   "display_name": "Python 3.8.5 64-bit",
   "language": "python"
  }
 },
 "nbformat": 4,
 "nbformat_minor": 4
}